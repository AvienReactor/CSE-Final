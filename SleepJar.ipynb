{
 "cells": [
  {
   "cell_type": "code",
   "execution_count": 355,
   "metadata": {},
   "outputs": [],
   "source": [
    "import pandas as pd\n",
    "import matplotlib.pyplot as plt\n",
    "import seaborn as sns"
   ]
  },
  {
   "cell_type": "markdown",
   "metadata": {},
   "source": [
    "# Initial data table with no changes"
   ]
  },
  {
   "cell_type": "code",
   "execution_count": 356,
   "metadata": {},
   "outputs": [
    {
     "data": {
      "text/html": [
       "<div>\n",
       "<style scoped>\n",
       "    .dataframe tbody tr th:only-of-type {\n",
       "        vertical-align: middle;\n",
       "    }\n",
       "\n",
       "    .dataframe tbody tr th {\n",
       "        vertical-align: top;\n",
       "    }\n",
       "\n",
       "    .dataframe thead th {\n",
       "        text-align: right;\n",
       "    }\n",
       "</style>\n",
       "<table border=\"1\" class=\"dataframe\">\n",
       "  <thead>\n",
       "    <tr style=\"text-align: right;\">\n",
       "      <th></th>\n",
       "      <th>ID</th>\n",
       "      <th>Age</th>\n",
       "      <th>Gender</th>\n",
       "      <th>Bedtime</th>\n",
       "      <th>Wakeup time</th>\n",
       "      <th>Sleep duration</th>\n",
       "      <th>Sleep efficiency</th>\n",
       "      <th>REM sleep percentage</th>\n",
       "      <th>Deep sleep percentage</th>\n",
       "      <th>Light sleep percentage</th>\n",
       "      <th>Awakenings</th>\n",
       "      <th>Caffeine consumption</th>\n",
       "      <th>Alcohol consumption</th>\n",
       "      <th>Smoking status</th>\n",
       "      <th>Exercise frequency</th>\n",
       "    </tr>\n",
       "  </thead>\n",
       "  <tbody>\n",
       "    <tr>\n",
       "      <th>0</th>\n",
       "      <td>1</td>\n",
       "      <td>65</td>\n",
       "      <td>Female</td>\n",
       "      <td>2021-03-06 01:00:00</td>\n",
       "      <td>2021-03-06 07:00:00</td>\n",
       "      <td>6.0</td>\n",
       "      <td>0.88</td>\n",
       "      <td>18</td>\n",
       "      <td>70</td>\n",
       "      <td>12</td>\n",
       "      <td>0.0</td>\n",
       "      <td>0.0</td>\n",
       "      <td>0.0</td>\n",
       "      <td>Yes</td>\n",
       "      <td>3.0</td>\n",
       "    </tr>\n",
       "    <tr>\n",
       "      <th>1</th>\n",
       "      <td>2</td>\n",
       "      <td>69</td>\n",
       "      <td>Male</td>\n",
       "      <td>2021-12-05 02:00:00</td>\n",
       "      <td>2021-12-05 09:00:00</td>\n",
       "      <td>7.0</td>\n",
       "      <td>0.66</td>\n",
       "      <td>19</td>\n",
       "      <td>28</td>\n",
       "      <td>53</td>\n",
       "      <td>3.0</td>\n",
       "      <td>0.0</td>\n",
       "      <td>3.0</td>\n",
       "      <td>Yes</td>\n",
       "      <td>3.0</td>\n",
       "    </tr>\n",
       "    <tr>\n",
       "      <th>2</th>\n",
       "      <td>3</td>\n",
       "      <td>40</td>\n",
       "      <td>Female</td>\n",
       "      <td>2021-05-25 21:30:00</td>\n",
       "      <td>2021-05-25 05:30:00</td>\n",
       "      <td>8.0</td>\n",
       "      <td>0.89</td>\n",
       "      <td>20</td>\n",
       "      <td>70</td>\n",
       "      <td>10</td>\n",
       "      <td>1.0</td>\n",
       "      <td>0.0</td>\n",
       "      <td>0.0</td>\n",
       "      <td>No</td>\n",
       "      <td>3.0</td>\n",
       "    </tr>\n",
       "    <tr>\n",
       "      <th>3</th>\n",
       "      <td>4</td>\n",
       "      <td>40</td>\n",
       "      <td>Female</td>\n",
       "      <td>2021-11-03 02:30:00</td>\n",
       "      <td>2021-11-03 08:30:00</td>\n",
       "      <td>6.0</td>\n",
       "      <td>0.51</td>\n",
       "      <td>23</td>\n",
       "      <td>25</td>\n",
       "      <td>52</td>\n",
       "      <td>3.0</td>\n",
       "      <td>50.0</td>\n",
       "      <td>5.0</td>\n",
       "      <td>Yes</td>\n",
       "      <td>1.0</td>\n",
       "    </tr>\n",
       "    <tr>\n",
       "      <th>4</th>\n",
       "      <td>5</td>\n",
       "      <td>57</td>\n",
       "      <td>Male</td>\n",
       "      <td>2021-03-13 01:00:00</td>\n",
       "      <td>2021-03-13 09:00:00</td>\n",
       "      <td>8.0</td>\n",
       "      <td>0.76</td>\n",
       "      <td>27</td>\n",
       "      <td>55</td>\n",
       "      <td>18</td>\n",
       "      <td>3.0</td>\n",
       "      <td>0.0</td>\n",
       "      <td>3.0</td>\n",
       "      <td>No</td>\n",
       "      <td>3.0</td>\n",
       "    </tr>\n",
       "    <tr>\n",
       "      <th>...</th>\n",
       "      <td>...</td>\n",
       "      <td>...</td>\n",
       "      <td>...</td>\n",
       "      <td>...</td>\n",
       "      <td>...</td>\n",
       "      <td>...</td>\n",
       "      <td>...</td>\n",
       "      <td>...</td>\n",
       "      <td>...</td>\n",
       "      <td>...</td>\n",
       "      <td>...</td>\n",
       "      <td>...</td>\n",
       "      <td>...</td>\n",
       "      <td>...</td>\n",
       "      <td>...</td>\n",
       "    </tr>\n",
       "    <tr>\n",
       "      <th>447</th>\n",
       "      <td>448</td>\n",
       "      <td>27</td>\n",
       "      <td>Female</td>\n",
       "      <td>2021-11-13 22:00:00</td>\n",
       "      <td>2021-11-13 05:30:00</td>\n",
       "      <td>7.5</td>\n",
       "      <td>0.91</td>\n",
       "      <td>22</td>\n",
       "      <td>57</td>\n",
       "      <td>21</td>\n",
       "      <td>0.0</td>\n",
       "      <td>0.0</td>\n",
       "      <td>0.0</td>\n",
       "      <td>No</td>\n",
       "      <td>5.0</td>\n",
       "    </tr>\n",
       "    <tr>\n",
       "      <th>448</th>\n",
       "      <td>449</td>\n",
       "      <td>52</td>\n",
       "      <td>Male</td>\n",
       "      <td>2021-03-31 21:00:00</td>\n",
       "      <td>2021-03-31 03:00:00</td>\n",
       "      <td>6.0</td>\n",
       "      <td>0.74</td>\n",
       "      <td>28</td>\n",
       "      <td>57</td>\n",
       "      <td>15</td>\n",
       "      <td>4.0</td>\n",
       "      <td>25.0</td>\n",
       "      <td>0.0</td>\n",
       "      <td>No</td>\n",
       "      <td>3.0</td>\n",
       "    </tr>\n",
       "    <tr>\n",
       "      <th>449</th>\n",
       "      <td>450</td>\n",
       "      <td>40</td>\n",
       "      <td>Female</td>\n",
       "      <td>2021-09-07 23:00:00</td>\n",
       "      <td>2021-09-07 07:30:00</td>\n",
       "      <td>8.5</td>\n",
       "      <td>0.55</td>\n",
       "      <td>20</td>\n",
       "      <td>32</td>\n",
       "      <td>48</td>\n",
       "      <td>1.0</td>\n",
       "      <td>NaN</td>\n",
       "      <td>3.0</td>\n",
       "      <td>Yes</td>\n",
       "      <td>0.0</td>\n",
       "    </tr>\n",
       "    <tr>\n",
       "      <th>450</th>\n",
       "      <td>451</td>\n",
       "      <td>45</td>\n",
       "      <td>Male</td>\n",
       "      <td>2021-07-29 21:00:00</td>\n",
       "      <td>2021-07-29 04:00:00</td>\n",
       "      <td>7.0</td>\n",
       "      <td>0.76</td>\n",
       "      <td>18</td>\n",
       "      <td>72</td>\n",
       "      <td>10</td>\n",
       "      <td>3.0</td>\n",
       "      <td>0.0</td>\n",
       "      <td>0.0</td>\n",
       "      <td>No</td>\n",
       "      <td>3.0</td>\n",
       "    </tr>\n",
       "    <tr>\n",
       "      <th>451</th>\n",
       "      <td>452</td>\n",
       "      <td>18</td>\n",
       "      <td>Male</td>\n",
       "      <td>2021-03-17 02:30:00</td>\n",
       "      <td>2021-03-17 10:00:00</td>\n",
       "      <td>7.5</td>\n",
       "      <td>0.63</td>\n",
       "      <td>22</td>\n",
       "      <td>23</td>\n",
       "      <td>55</td>\n",
       "      <td>1.0</td>\n",
       "      <td>50.0</td>\n",
       "      <td>0.0</td>\n",
       "      <td>No</td>\n",
       "      <td>1.0</td>\n",
       "    </tr>\n",
       "  </tbody>\n",
       "</table>\n",
       "<p>452 rows × 15 columns</p>\n",
       "</div>"
      ],
      "text/plain": [
       "      ID  Age  Gender              Bedtime          Wakeup time  \\\n",
       "0      1   65  Female  2021-03-06 01:00:00  2021-03-06 07:00:00   \n",
       "1      2   69    Male  2021-12-05 02:00:00  2021-12-05 09:00:00   \n",
       "2      3   40  Female  2021-05-25 21:30:00  2021-05-25 05:30:00   \n",
       "3      4   40  Female  2021-11-03 02:30:00  2021-11-03 08:30:00   \n",
       "4      5   57    Male  2021-03-13 01:00:00  2021-03-13 09:00:00   \n",
       "..   ...  ...     ...                  ...                  ...   \n",
       "447  448   27  Female  2021-11-13 22:00:00  2021-11-13 05:30:00   \n",
       "448  449   52    Male  2021-03-31 21:00:00  2021-03-31 03:00:00   \n",
       "449  450   40  Female  2021-09-07 23:00:00  2021-09-07 07:30:00   \n",
       "450  451   45    Male  2021-07-29 21:00:00  2021-07-29 04:00:00   \n",
       "451  452   18    Male  2021-03-17 02:30:00  2021-03-17 10:00:00   \n",
       "\n",
       "     Sleep duration  Sleep efficiency  REM sleep percentage  \\\n",
       "0               6.0              0.88                    18   \n",
       "1               7.0              0.66                    19   \n",
       "2               8.0              0.89                    20   \n",
       "3               6.0              0.51                    23   \n",
       "4               8.0              0.76                    27   \n",
       "..              ...               ...                   ...   \n",
       "447             7.5              0.91                    22   \n",
       "448             6.0              0.74                    28   \n",
       "449             8.5              0.55                    20   \n",
       "450             7.0              0.76                    18   \n",
       "451             7.5              0.63                    22   \n",
       "\n",
       "     Deep sleep percentage  Light sleep percentage  Awakenings  \\\n",
       "0                       70                      12         0.0   \n",
       "1                       28                      53         3.0   \n",
       "2                       70                      10         1.0   \n",
       "3                       25                      52         3.0   \n",
       "4                       55                      18         3.0   \n",
       "..                     ...                     ...         ...   \n",
       "447                     57                      21         0.0   \n",
       "448                     57                      15         4.0   \n",
       "449                     32                      48         1.0   \n",
       "450                     72                      10         3.0   \n",
       "451                     23                      55         1.0   \n",
       "\n",
       "     Caffeine consumption  Alcohol consumption Smoking status  \\\n",
       "0                     0.0                  0.0            Yes   \n",
       "1                     0.0                  3.0            Yes   \n",
       "2                     0.0                  0.0             No   \n",
       "3                    50.0                  5.0            Yes   \n",
       "4                     0.0                  3.0             No   \n",
       "..                    ...                  ...            ...   \n",
       "447                   0.0                  0.0             No   \n",
       "448                  25.0                  0.0             No   \n",
       "449                   NaN                  3.0            Yes   \n",
       "450                   0.0                  0.0             No   \n",
       "451                  50.0                  0.0             No   \n",
       "\n",
       "     Exercise frequency  \n",
       "0                   3.0  \n",
       "1                   3.0  \n",
       "2                   3.0  \n",
       "3                   1.0  \n",
       "4                   3.0  \n",
       "..                  ...  \n",
       "447                 5.0  \n",
       "448                 3.0  \n",
       "449                 0.0  \n",
       "450                 3.0  \n",
       "451                 1.0  \n",
       "\n",
       "[452 rows x 15 columns]"
      ]
     },
     "execution_count": 356,
     "metadata": {},
     "output_type": "execute_result"
    }
   ],
   "source": [
    "sleep_data = pd.read_csv('Sleep_Efficiency.csv')\n",
    "sleep_data\n",
    "\n",
    "try1 = pd.read_csv('Sleep_Efficiency.csv')\n",
    "try1"
   ]
  },
  {
   "cell_type": "markdown",
   "metadata": {},
   "source": [
    "# Cleaning proccess\n",
    "Some things seem to be missing so i will assume that Caffeine and Alcohol are meant to be 0. Awakening and Exercise frequency are being filled with the average."
   ]
  },
  {
   "cell_type": "code",
   "execution_count": 357,
   "metadata": {},
   "outputs": [
    {
     "data": {
      "text/plain": [
       "Age                        0\n",
       "Gender                     0\n",
       "Bedtime                    0\n",
       "Wakeup time                0\n",
       "Sleep duration             0\n",
       "Sleep efficiency           0\n",
       "REM sleep percentage       0\n",
       "Deep sleep percentage      0\n",
       "Light sleep percentage     0\n",
       "Awakenings                20\n",
       "Caffeine consumption      25\n",
       "Alcohol consumption       14\n",
       "Smoking status             0\n",
       "Exercise frequency         6\n",
       "dtype: int64"
      ]
     },
     "execution_count": 357,
     "metadata": {},
     "output_type": "execute_result"
    }
   ],
   "source": [
    "sleep_data = sleep_data.drop(['ID'], axis=1) # Removing ID because it is not needed\n",
    "sleep_data.isnull().sum() # Checking how many null values there are"
   ]
  },
  {
   "cell_type": "code",
   "execution_count": 358,
   "metadata": {},
   "outputs": [
    {
     "data": {
      "text/plain": [
       "Age                       0\n",
       "Gender                    0\n",
       "Bedtime                   0\n",
       "Wakeup time               0\n",
       "Sleep duration            0\n",
       "Sleep efficiency          0\n",
       "REM sleep percentage      0\n",
       "Deep sleep percentage     0\n",
       "Light sleep percentage    0\n",
       "Awakenings                0\n",
       "Caffeine consumption      0\n",
       "Alcohol consumption       0\n",
       "Smoking status            0\n",
       "Exercise frequency        0\n",
       "dtype: int64"
      ]
     },
     "execution_count": 358,
     "metadata": {},
     "output_type": "execute_result"
    }
   ],
   "source": [
    "#sleep_data[['Caffeine consumption', 'Alcohol consumption']] = sleep_data[['Caffeine consumption', 'Alcohol consumption']].fillna(value=0)\n",
    "\n",
    "#print('AwakeningMean: ' + str(AwakeningMean))\n",
    "sleep_data['Awakenings'] = sleep_data['Awakenings'].fillna(value=sleep_data['Awakenings'].mean())\n",
    "sleep_data['Exercise frequency'] = sleep_data['Exercise frequency'].fillna(value=sleep_data['Exercise frequency'].mean())\n",
    "sleep_data['Caffeine consumption'] = sleep_data['Caffeine consumption'].fillna(value=round(sleep_data['Caffeine consumption'].mean()))\n",
    "sleep_data['Alcohol consumption'] = sleep_data['Alcohol consumption'].fillna(value=round(sleep_data['Alcohol consumption'].mean()))\n",
    "\n",
    "\n",
    "sleep_data.isnull().sum() # Checking how many null values there are"
   ]
  },
  {
   "cell_type": "markdown",
   "metadata": {},
   "source": [
    "# Exporation\n",
    "BedTime and Wakeup Time have been expanded for better catagorization"
   ]
  },
  {
   "cell_type": "code",
   "execution_count": 359,
   "metadata": {},
   "outputs": [
    {
     "name": "stderr",
     "output_type": "stream",
     "text": [
      "/tmp/ipykernel_3931/709296186.py:1: FutureWarning: In a future version of pandas all arguments of StringMethods.split except for the argument 'pat' will be keyword-only.\n",
      "  sleep_data[['Bed date', 'Bedtime']] = sleep_data['Bedtime'].str.split(' ', 1, expand=True)\n",
      "/tmp/ipykernel_3931/709296186.py:2: FutureWarning: In a future version of pandas all arguments of StringMethods.split except for the argument 'pat' will be keyword-only.\n",
      "  sleep_data[['Wakeup date', 'Wakeup time']] = sleep_data['Wakeup time'].str.split(' ', 1, expand=True)\n"
     ]
    },
    {
     "data": {
      "text/plain": [
       "Early Morning    241\n",
       "Night            211\n",
       "Name: Time of day, dtype: int64"
      ]
     },
     "execution_count": 359,
     "metadata": {},
     "output_type": "execute_result"
    }
   ],
   "source": [
    "sleep_data[['Bed date', 'Bedtime']] = sleep_data['Bedtime'].str.split(' ', 1, expand=True)\n",
    "sleep_data[['Wakeup date', 'Wakeup time']] = sleep_data['Wakeup time'].str.split(' ', 1, expand=True)\n",
    "#sleep_data.loc(sleep_data['Bedtime'] >= object'20:00:00', 'Time of day') = 2\n",
    "\n",
    "sleep_data['Time of day'] = sleep_data['Bedtime'].map(lambda x: 'Early Morning' if x < '05:00:00' else 'Night')\n",
    "#sleep_data['Time of day'] = sleep_data['Bedtime'].map(lambda x: 'Evening' if x <= '05:00:00' else 'Evening')\n",
    "sleep_data['Time of day'].value_counts()"
   ]
  },
  {
   "cell_type": "code",
   "execution_count": 360,
   "metadata": {},
   "outputs": [
    {
     "data": {
      "text/plain": [
       "<Axes: xlabel='Time of day', ylabel='Count'>"
      ]
     },
     "execution_count": 360,
     "metadata": {},
     "output_type": "execute_result"
    },
    {
     "data": {
      "image/png": "[encoded data removed]",
      "text/plain": [
       "<Figure size 640x480 with 1 Axes>"
      ]
     },
     "metadata": {},
     "output_type": "display_data"
    }
   ],
   "source": [
    "sleep_data = sleep_data.sort_values('Bedtime')\n",
    "sns.histplot(sleep_data, x='Time of day', hue='Gender', multiple='stack')\n",
    "#plt.xticks(rotation=45)\n",
    "#plt.show()"
   ]
  },
  {
   "cell_type": "code",
   "execution_count": 361,
   "metadata": {},
   "outputs": [
    {
     "data": {
      "text/plain": [
       "<Axes: xlabel='Caffeine consumption', ylabel='Age'>"
      ]
     },
     "execution_count": 361,
     "metadata": {},
     "output_type": "execute_result"
    },
    {
     "data": {
      "image/png": "[encoded data removed]",
      "text/plain": [
       "<Figure size 640x480 with 1 Axes>"
      ]
     },
     "metadata": {},
     "output_type": "display_data"
    }
   ],
   "source": [
    "sleep_data.describe()\n",
    "sns.boxplot(data = sleep_data, y = 'Age', x = 'Caffeine consumption')"
   ]
  },
  {
   "cell_type": "code",
   "execution_count": 362,
   "metadata": {},
   "outputs": [
    {
     "data": {
      "text/plain": [
       "<Axes: xlabel='Caffeine consumption', ylabel='Age'>"
      ]
     },
     "execution_count": 362,
     "metadata": {},
     "output_type": "execute_result"
    },
    {
     "data": {
      "image/png": "[encoded data removed]",
      "text/plain": [
       "<Figure size 640x480 with 1 Axes>"
      ]
     },
     "metadata": {},
     "output_type": "display_data"
    }
   ],
   "source": [
    "try1.describe()\n",
    "sns.boxplot(data=try1, y= 'Age', x = 'Caffeine consumption')"
   ]
  },
  {
   "cell_type": "code",
   "execution_count": 363,
   "metadata": {},
   "outputs": [
    {
     "name": "stdout",
     "output_type": "stream",
     "text": [
      "<class 'pandas.core.frame.DataFrame'>\n",
      "Int64Index: 452 entries, 66 to 134\n",
      "Data columns (total 17 columns):\n",
      " #   Column                  Non-Null Count  Dtype  \n",
      "---  ------                  --------------  -----  \n",
      " 0   Age                     452 non-null    int64  \n",
      " 1   Gender                  452 non-null    object \n",
      " 2   Bedtime                 452 non-null    object \n",
      " 3   Wakeup time             452 non-null    object \n",
      " 4   Sleep duration          452 non-null    float64\n",
      " 5   Sleep efficiency        452 non-null    float64\n",
      " 6   REM sleep percentage    452 non-null    int64  \n",
      " 7   Deep sleep percentage   452 non-null    int64  \n",
      " 8   Light sleep percentage  452 non-null    int64  \n",
      " 9   Awakenings              452 non-null    float64\n",
      " 10  Caffeine consumption    452 non-null    float64\n",
      " 11  Alcohol consumption     452 non-null    float64\n",
      " 12  Smoking status          452 non-null    object \n",
      " 13  Exercise frequency      452 non-null    float64\n",
      " 14  Bed date                452 non-null    object \n",
      " 15  Wakeup date             452 non-null    object \n",
      " 16  Time of day             452 non-null    object \n",
      "dtypes: float64(6), int64(4), object(7)\n",
      "memory usage: 63.6+ KB\n"
     ]
    }
   ],
   "source": [
    "sleep_data.info()"
   ]
  }
 ],
 "metadata": {
  "kernelspec": {
   "display_name": "Python 3",
   "language": "python",
   "name": "python3"
  },
  "language_info": {
   "codemirror_mode": {
    "name": "ipython",
    "version": 3
   },
   "file_extension": ".py",
   "mimetype": "text/x-python",
   "name": "python",
   "nbconvert_exporter": "python",
   "pygments_lexer": "ipython3",
   "version": "3.10.13"
  }
 },
 "nbformat": 4,
 "nbformat_minor": 2
}
